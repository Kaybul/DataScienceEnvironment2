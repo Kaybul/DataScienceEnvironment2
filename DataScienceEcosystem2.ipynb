{
 "cells": [
  {
   "cell_type": "markdown",
   "id": "e9fed277-1bb6-40fd-a220-42d91fc5b5ae",
   "metadata": {
    "tags": []
   },
   "source": [
    "<center>\n",
    "    <img src=\"https://cf-courses-data.s3.us.cloud-object-storage.appdomain.cloud/IBMDeveloperSkillsNetwork-DS0105EN-SkillsNetwork/labs/Module2/images/SN_web_lightmode.png\" width=\"300\" alt=\"cognitiveclass.ai logo\">\n",
    "</center>"
   ]
  },
  {
   "cell_type": "markdown",
   "id": "9c460f28-47f9-4ad0-b31e-78be659bfe44",
   "metadata": {},
   "source": [
    "#### Add your code below following the instructions given in the course"
   ]
  },
  {
   "cell_type": "markdown",
   "id": "97ccd8fa-4c81-4da6-99d9-7021b17815db",
   "metadata": {},
   "source": [
    "# Data Science Tools and Ecosystem"
   ]
  },
  {
   "cell_type": "markdown",
   "id": "0c9ff1fa-d201-4c5b-9c64-da1f7dc2c55c",
   "metadata": {},
   "source": [
    "### In this notebook, Data Science Tools and Ecosystem are summarized"
   ]
  },
  {
   "cell_type": "markdown",
   "id": "bf5fec97-98b9-4198-947b-cc6006089243",
   "metadata": {
    "tags": []
   },
   "source": [
    "**Objectives:**\n",
    "- Create markdown cells\n",
    "- Add ordered and unordered list to markdown cells\n",
    "- Add comments to code cells"
   ]
  },
  {
   "cell_type": "markdown",
   "id": "ec8fc8fc-96d5-4877-a96e-45082db808eb",
   "metadata": {},
   "source": [
    "Some popular languages that Data Scientists use are:\n",
    "1. Python\n",
    "2. R\n",
    "3. Julia"
   ]
  },
  {
   "cell_type": "markdown",
   "id": "315e9619-5e2f-4df3-9343-62200cd84e2a",
   "metadata": {},
   "source": [
    "Some of the commonly used libraries used by data Scientist include:\n",
    "1. Pandas\n",
    "2. Numpy\n",
    "3. Matplotlib"
   ]
  },
  {
   "cell_type": "markdown",
   "id": "382f4aed-6197-49a6-b915-a7c097652f98",
   "metadata": {},
   "source": [
    "|Data Science Tools|\n",
    "|------------------|\n",
    "|Anaconda|\n",
    "|Jupyter Notebooks|\n",
    "|R Studio|"
   ]
  },
  {
   "cell_type": "markdown",
   "id": "0993cc6a-8c60-4295-ab19-61b9ed606aaf",
   "metadata": {},
   "source": [
    "### Below are a few examples of evaluating arithmetic expressions in Python"
   ]
  },
  {
   "cell_type": "markdown",
   "id": "3d0e4f22-310c-4a32-b24c-3dd704316870",
   "metadata": {},
   "source": [
    "This is a simple arithmetic expression to multiply then add integers"
   ]
  },
  {
   "cell_type": "code",
   "execution_count": 1,
   "id": "5d77f5e7-da95-4f19-ad82-7bcf125680cd",
   "metadata": {
    "tags": []
   },
   "outputs": [
    {
     "data": {
      "text/plain": [
       "17"
      ]
     },
     "execution_count": 1,
     "metadata": {},
     "output_type": "execute_result"
    }
   ],
   "source": [
    "(3*4)+5"
   ]
  },
  {
   "cell_type": "markdown",
   "id": "658685eb-96d0-42b3-b7c4-51b8d26e66d4",
   "metadata": {},
   "source": [
    "This will convert 200 minutes to hours by dividing by 60"
   ]
  },
  {
   "cell_type": "code",
   "execution_count": 4,
   "id": "51b21a97-67f9-4db3-abcb-24d3fd66a9a9",
   "metadata": {
    "tags": []
   },
   "outputs": [
    {
     "data": {
      "text/plain": [
       "3.3333333333333335"
      ]
     },
     "execution_count": 4,
     "metadata": {},
     "output_type": "execute_result"
    }
   ],
   "source": [
    "200/60"
   ]
  },
  {
   "cell_type": "markdown",
   "id": "371ac663-06bd-4052-a2dc-39226a163460",
   "metadata": {},
   "source": [
    "## Author\n",
    "Kendal Bulman"
   ]
  }
 ],
 "metadata": {
  "kernelspec": {
   "display_name": "Python",
   "language": "python",
   "name": "conda-env-python-py"
  },
  "language_info": {
   "codemirror_mode": {
    "name": "ipython",
    "version": 3
   },
   "file_extension": ".py",
   "mimetype": "text/x-python",
   "name": "python",
   "nbconvert_exporter": "python",
   "pygments_lexer": "ipython3",
   "version": "3.7.12"
  }
 },
 "nbformat": 4,
 "nbformat_minor": 5
}
